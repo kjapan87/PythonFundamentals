{
  "nbformat": 4,
  "nbformat_minor": 0,
  "metadata": {
    "colab": {
      "name": "Python_for_NLP.ipynb",
      "provenance": [],
      "include_colab_link": true
    },
    "kernelspec": {
      "name": "python3",
      "display_name": "Python 3"
    }
  },
  "cells": [
    {
      "cell_type": "markdown",
      "metadata": {
        "id": "view-in-github",
        "colab_type": "text"
      },
      "source": [
        "<a href=\"https://colab.research.google.com/github/kjapan87/PythonFundamentals/blob/main/Python_for_NLP.ipynb\" target=\"_parent\"><img src=\"https://colab.research.google.com/assets/colab-badge.svg\" alt=\"Open In Colab\"/></a>"
      ]
    },
    {
      "cell_type": "code",
      "metadata": {
        "id": "kDkbYf3z5I8N",
        "outputId": "f5182ab4-ada7-4dc3-e8e7-2c7e864dc3c8",
        "colab": {
          "base_uri": "https://localhost:8080/",
          "height": 35
        }
      },
      "source": [
        "print(\"Hello world\")"
      ],
      "execution_count": null,
      "outputs": [
        {
          "output_type": "stream",
          "text": [
            "Hello world\n"
          ],
          "name": "stdout"
        }
      ]
    },
    {
      "cell_type": "code",
      "metadata": {
        "id": "mQVmSz4r5jNM"
      },
      "source": [
        "# Data types supported by python(Decimal, Float and string)\n",
        "akshay=12\n",
        "b=12.5\n",
        "c=\" Hands-on-python\""
      ],
      "execution_count": null,
      "outputs": []
    },
    {
      "cell_type": "code",
      "metadata": {
        "id": "pCO5j53QkXv1",
        "outputId": "c31bad63-f1d0-44b0-e977-3e48ba4f12b9",
        "colab": {
          "base_uri": "https://localhost:8080/",
          "height": 35
        }
      },
      "source": [
        "print(akshay)"
      ],
      "execution_count": null,
      "outputs": [
        {
          "output_type": "stream",
          "text": [
            "12\n"
          ],
          "name": "stdout"
        }
      ]
    },
    {
      "cell_type": "code",
      "metadata": {
        "id": "o3FBuzeEkaLe",
        "outputId": "8e844b35-6ab3-46d4-97a0-83de20e5c8b7",
        "colab": {
          "base_uri": "https://localhost:8080/",
          "height": 35
        }
      },
      "source": [
        "a"
      ],
      "execution_count": null,
      "outputs": [
        {
          "output_type": "execute_result",
          "data": {
            "text/plain": [
              "12"
            ]
          },
          "metadata": {
            "tags": []
          },
          "execution_count": 4
        }
      ]
    },
    {
      "cell_type": "code",
      "metadata": {
        "id": "-Tj9W-Rrki4-",
        "outputId": "aa44ca43-d36f-4a49-bc46-f3e3aafbaec5",
        "colab": {
          "base_uri": "https://localhost:8080/",
          "height": 35
        }
      },
      "source": [
        "print(b)"
      ],
      "execution_count": null,
      "outputs": [
        {
          "output_type": "stream",
          "text": [
            "12.5\n"
          ],
          "name": "stdout"
        }
      ]
    },
    {
      "cell_type": "code",
      "metadata": {
        "id": "4FyPKJNhkt9a",
        "outputId": "bad9d9d4-908f-4156-cf61-1e55fc555796",
        "colab": {
          "base_uri": "https://localhost:8080/",
          "height": 35
        }
      },
      "source": [
        "b"
      ],
      "execution_count": null,
      "outputs": [
        {
          "output_type": "execute_result",
          "data": {
            "text/plain": [
              "12.5"
            ]
          },
          "metadata": {
            "tags": []
          },
          "execution_count": 6
        }
      ]
    },
    {
      "cell_type": "code",
      "metadata": {
        "id": "3Dg4IGdW6BrQ",
        "outputId": "b55bc6c2-2362-412a-cb78-b997a3d8d9cb",
        "colab": {
          "base_uri": "https://localhost:8080/",
          "height": 35
        }
      },
      "source": [
        "#Mathemtical operations\n",
        "num1=1\n",
        "num2=5\n",
        "result=num1+num2\n",
        "result=num1-num2\n",
        "result=num1/num2\n",
        "result=num1*num2\n",
        "result=num1%num2\n",
        "print(result)"
      ],
      "execution_count": null,
      "outputs": [
        {
          "output_type": "stream",
          "text": [
            "1\n"
          ],
          "name": "stdout"
        }
      ]
    },
    {
      "cell_type": "code",
      "metadata": {
        "id": "NLlMGAmH6rCy",
        "outputId": "9b92832a-9c75-4a9b-ec6b-72cdab28ac9d",
        "colab": {
          "base_uri": "https://localhost:8080/",
          "height": 124
        }
      },
      "source": [
        "sen=\"I love NLP\\n\"\n",
        "print(sen*5)"
      ],
      "execution_count": null,
      "outputs": [
        {
          "output_type": "stream",
          "text": [
            "I love NLP\n",
            "I love NLP\n",
            "I love NLP\n",
            "I love NLP\n",
            "I love NLP\n",
            "\n"
          ],
          "name": "stdout"
        }
      ]
    },
    {
      "cell_type": "code",
      "metadata": {
        "id": "SMf30OIc7OgY",
        "outputId": "0d5a610b-4731-4c87-9b2d-c15c936d8884",
        "colab": {
          "base_uri": "https://localhost:8080/",
          "height": 35
        }
      },
      "source": [
        "print(\"I love\",end=\" \")\n",
        "print(\"NLP\",end=\" \")\n",
        "print(\"When i was a kiddo\",end=\" \")\n",
        "print(\"but, these days it been boring\")"
      ],
      "execution_count": null,
      "outputs": [
        {
          "output_type": "stream",
          "text": [
            "I love NLP When i was a kiddo but, these days it been boring\n"
          ],
          "name": "stdout"
        }
      ]
    },
    {
      "cell_type": "code",
      "metadata": {
        "id": "LgwmxeUCYpem",
        "outputId": "75a3d4b6-57f9-4bc5-b98f-014202ebbbb4",
        "colab": {
          "base_uri": "https://localhost:8080/",
          "height": 35
        }
      },
      "source": [
        "# conditionals(IF ELIF and ELSE)\n",
        "marks=89\n",
        "if marks>90:\n",
        "  print(\"Grade 0\")\n",
        "elif marks>80:\n",
        "  print(\"Grade E\")\n",
        "elif marks>70:\n",
        "  print(\"Grade A\")\n",
        "elif marks>60:\n",
        "  print(\"Grade B\")\n",
        "elsee:\n",
        "  print(\"Failed\")"
      ],
      "execution_count": null,
      "outputs": [
        {
          "output_type": "stream",
          "text": [
            "Grade E\n"
          ],
          "name": "stdout"
        }
      ]
    },
    {
      "cell_type": "code",
      "metadata": {
        "id": "fhy4vAw1Z0bG",
        "outputId": "22060896-32a7-4ac3-b691-22cc4db9c0e3",
        "colab": {
          "base_uri": "https://localhost:8080/",
          "height": 35
        }
      },
      "source": [
        "number1 =49\n",
        "number2=5\n",
        "if (number1%number2==0):\n",
        "  print(\"Divisible\")\n",
        "else:\n",
        "  print(\"Not Divisible\")"
      ],
      "execution_count": null,
      "outputs": [
        {
          "output_type": "stream",
          "text": [
            "Not Divisible\n"
          ],
          "name": "stdout"
        }
      ]
    },
    {
      "cell_type": "code",
      "metadata": {
        "id": "QiebGudhaXi1",
        "outputId": "882b0612-b5c1-4914-85f8-f28ee209c045",
        "colab": {
          "base_uri": "https://localhost:8080/",
          "height": 195
        }
      },
      "source": [
        "#while and For loop in python only\n",
        "i=1\n",
        "while i<=10:\n",
        "  print(i)\n",
        "  i+=1"
      ],
      "execution_count": null,
      "outputs": [
        {
          "output_type": "stream",
          "text": [
            "1\n",
            "2\n",
            "3\n",
            "4\n",
            "5\n",
            "6\n",
            "7\n",
            "8\n",
            "9\n",
            "10\n"
          ],
          "name": "stdout"
        }
      ]
    },
    {
      "cell_type": "code",
      "metadata": {
        "id": "CnWfjFI_a9ol",
        "outputId": "98ed1421-9f91-4181-cabe-3a1fc507b861",
        "colab": {
          "base_uri": "https://localhost:8080/",
          "height": 177
        }
      },
      "source": [
        "for i in range(1,10):\n",
        "  print(i*5)"
      ],
      "execution_count": null,
      "outputs": [
        {
          "output_type": "stream",
          "text": [
            "5\n",
            "10\n",
            "15\n",
            "20\n",
            "25\n",
            "30\n",
            "35\n",
            "40\n",
            "45\n"
          ],
          "name": "stdout"
        }
      ]
    },
    {
      "cell_type": "code",
      "metadata": {
        "id": "hr1nZ7OAbXlb",
        "outputId": "b7500c25-be1e-45b5-a64f-5ccce169edc0",
        "colab": {
          "base_uri": "https://localhost:8080/",
          "height": 106
        }
      },
      "source": [
        "# print 12345\n",
        "12345\n",
        "12345\n",
        "12345\n",
        "12345\n",
        "12345\n",
        "for i in range(1,6):\n",
        "  for j in range(1,6):\n",
        "    print(j, end=\"\")\n",
        "  print()"
      ],
      "execution_count": null,
      "outputs": [
        {
          "output_type": "stream",
          "text": [
            "12345\n",
            "12345\n",
            "12345\n",
            "12345\n",
            "12345\n"
          ],
          "name": "stdout"
        }
      ]
    },
    {
      "cell_type": "code",
      "metadata": {
        "id": "CLeg80d2cF7V",
        "outputId": "ce6ce91b-c15e-47c3-8eeb-ae5234831af8",
        "colab": {
          "base_uri": "https://localhost:8080/",
          "height": 106
        }
      },
      "source": [
        "# Loop Control Statements(Break,continue,pass)\n",
        "#Break statement\n",
        "for i in range(1,11):\n",
        "  if i>5:\n",
        "    break\n",
        "  print(i)\n",
        "\n"
      ],
      "execution_count": null,
      "outputs": [
        {
          "output_type": "stream",
          "text": [
            "1\n",
            "2\n",
            "3\n",
            "4\n",
            "5\n"
          ],
          "name": "stdout"
        }
      ]
    },
    {
      "cell_type": "code",
      "metadata": {
        "id": "CKuHBMpXcsYc",
        "outputId": "ae90c72f-8e67-472a-d93a-2458465efedd",
        "colab": {
          "base_uri": "https://localhost:8080/",
          "height": 159
        }
      },
      "source": [
        "# Continue \n",
        "for i in range(1,11):\n",
        "  if i>4 and i<7:\n",
        "    continue\n",
        "  print(i)"
      ],
      "execution_count": null,
      "outputs": [
        {
          "output_type": "stream",
          "text": [
            "1\n",
            "2\n",
            "3\n",
            "4\n",
            "7\n",
            "8\n",
            "9\n",
            "10\n"
          ],
          "name": "stdout"
        }
      ]
    },
    {
      "cell_type": "code",
      "metadata": {
        "id": "geshszPAdcdr"
      },
      "source": [
        "# Pass Statement\n",
        "i=1\n",
        "if (i==1):\n",
        "  pass\n",
        "else:\n",
        "  pass"
      ],
      "execution_count": null,
      "outputs": []
    },
    {
      "cell_type": "code",
      "metadata": {
        "id": "sXxv289beltc",
        "outputId": "4cf00e83-cb35-434c-c978-b5a81bea571b",
        "colab": {
          "base_uri": "https://localhost:8080/",
          "height": 88
        }
      },
      "source": [
        "# Python Datastructure(List,Tuples and Dictionary)\n",
        "list1=[12,12.5,\"It's weekend\",\" this is a string\"]\n",
        "print(list1)\n",
        "print(list1[0])\n",
        "print(list1[1])\n",
        "print(list1[2])"
      ],
      "execution_count": null,
      "outputs": [
        {
          "output_type": "stream",
          "text": [
            "[12, 12.5, \"It's weekend\", ' this is a string']\n",
            "12\n",
            "12.5\n",
            "It's weekend\n"
          ],
          "name": "stdout"
        }
      ]
    },
    {
      "cell_type": "code",
      "metadata": {
        "id": "Gc1yAaTm-4gB"
      },
      "source": [
        "list1.append(0)"
      ],
      "execution_count": null,
      "outputs": []
    },
    {
      "cell_type": "code",
      "metadata": {
        "id": "Tei2QrGQ_Czq"
      },
      "source": [
        "list1.insert(1,18.0)"
      ],
      "execution_count": null,
      "outputs": []
    },
    {
      "cell_type": "code",
      "metadata": {
        "id": "p5U6lUtc_j5Q",
        "outputId": "371b7bb3-be75-4ffa-edc9-45c900f088e1",
        "colab": {
          "base_uri": "https://localhost:8080/",
          "height": 35
        }
      },
      "source": [
        "list1.pop()"
      ],
      "execution_count": null,
      "outputs": [
        {
          "output_type": "execute_result",
          "data": {
            "text/plain": [
              "0"
            ]
          },
          "metadata": {
            "tags": []
          },
          "execution_count": 144
        }
      ]
    },
    {
      "cell_type": "code",
      "metadata": {
        "id": "U6fN5YbCASgA"
      },
      "source": [
        "del list1[1]"
      ],
      "execution_count": null,
      "outputs": []
    },
    {
      "cell_type": "code",
      "metadata": {
        "id": "GKmYuSN0_x8g",
        "outputId": "faca11de-aa99-46a4-9697-f4a96ff8be98",
        "colab": {
          "base_uri": "https://localhost:8080/",
          "height": 35
        }
      },
      "source": [
        "list1"
      ],
      "execution_count": null,
      "outputs": [
        {
          "output_type": "execute_result",
          "data": {
            "text/plain": [
              "[12, 12.5, \"It's weekend\", ' this is a string']"
            ]
          },
          "metadata": {
            "tags": []
          },
          "execution_count": 146
        }
      ]
    },
    {
      "cell_type": "code",
      "metadata": {
        "id": "DISAqNoofO-t",
        "outputId": "98b7a771-8ea5-4acd-e91e-d6b0415302c9",
        "colab": {
          "base_uri": "https://localhost:8080/",
          "height": 35
        }
      },
      "source": [
        "list1.append(50)# append at the end of the list\n",
        "print(list1)\n",
        "list1.insert(0,\"string number 1\") # insert at some speicific position "
      ],
      "execution_count": null,
      "outputs": [
        {
          "output_type": "stream",
          "text": [
            "[12, 12.5, \"It's weekend\", ' this is a string', 50]\n"
          ],
          "name": "stdout"
        }
      ]
    },
    {
      "cell_type": "code",
      "metadata": {
        "id": "kesJQlLXfroC",
        "outputId": "375e5c4a-2ad3-4f53-dd11-d3b4505dbff1",
        "colab": {
          "base_uri": "https://localhost:8080/",
          "height": 35
        }
      },
      "source": [
        "list1[1]=20\n",
        "list1.pop() # deleting from end\n",
        "# deleting from specific position of the list\n",
        "del list1[2]\n",
        "print(list1)"
      ],
      "execution_count": null,
      "outputs": [
        {
          "output_type": "stream",
          "text": [
            "['string number 1', 20, \"It's weekend\", ' this is a string']\n"
          ],
          "name": "stdout"
        }
      ]
    },
    {
      "cell_type": "code",
      "metadata": {
        "id": "IFaQeSN5gMOx",
        "outputId": "1555e101-bb4b-49e8-98d4-6f15740f3dd4",
        "colab": {
          "base_uri": "https://localhost:8080/",
          "height": 35
        }
      },
      "source": [
        "len(list1) # Length of the list"
      ],
      "execution_count": null,
      "outputs": [
        {
          "output_type": "execute_result",
          "data": {
            "text/plain": [
              "4"
            ]
          },
          "metadata": {
            "tags": []
          },
          "execution_count": 149
        }
      ]
    },
    {
      "cell_type": "code",
      "metadata": {
        "id": "9VgwXxW0gXuU",
        "outputId": "1d0dbd22-2127-45d1-af8c-fa571ba32bb2",
        "colab": {
          "base_uri": "https://localhost:8080/",
          "height": 88
        }
      },
      "source": [
        "for i in range(0,len(list1)):\n",
        "  print(list1[i])"
      ],
      "execution_count": null,
      "outputs": [
        {
          "output_type": "stream",
          "text": [
            "string number 1\n",
            "20\n",
            "It's weekend\n",
            " this is a string\n"
          ],
          "name": "stdout"
        }
      ]
    },
    {
      "cell_type": "code",
      "metadata": {
        "id": "b8ZuuaKqC61f",
        "outputId": "07da75b9-b9ef-4b73-b942-539f7fd28082",
        "colab": {
          "base_uri": "https://localhost:8080/",
          "height": 35
        }
      },
      "source": [
        "  print(list1)"
      ],
      "execution_count": null,
      "outputs": [
        {
          "output_type": "stream",
          "text": [
            "[12, 12, 12, 12]\n"
          ],
          "name": "stdout"
        }
      ]
    },
    {
      "cell_type": "code",
      "metadata": {
        "id": "696KYaeChKIa"
      },
      "source": [
        "# update the list\n",
        "for i in range(0,len(list1)):\n",
        "  list1[i]=12\n"
      ],
      "execution_count": null,
      "outputs": []
    },
    {
      "cell_type": "code",
      "metadata": {
        "id": "tc2dXR5rDVra",
        "outputId": "78364009-a33c-4e76-d29c-aff3e23dc875",
        "colab": {
          "base_uri": "https://localhost:8080/",
          "height": 35
        }
      },
      "source": [
        "list1"
      ],
      "execution_count": null,
      "outputs": [
        {
          "output_type": "execute_result",
          "data": {
            "text/plain": [
              "[12, 12, 12, 12]"
            ]
          },
          "metadata": {
            "tags": []
          },
          "execution_count": 163
        }
      ]
    },
    {
      "cell_type": "code",
      "metadata": {
        "id": "kfcZYXxqhm9p",
        "outputId": "fe33734d-997c-40a8-f50c-8a123b8adc72",
        "colab": {
          "base_uri": "https://localhost:8080/",
          "height": 88
        }
      },
      "source": [
        "for item in list1:\n",
        "  print(item)"
      ],
      "execution_count": null,
      "outputs": [
        {
          "output_type": "stream",
          "text": [
            "12\n",
            "12\n",
            "12\n",
            "12\n"
          ],
          "name": "stdout"
        }
      ]
    },
    {
      "cell_type": "code",
      "metadata": {
        "id": "OK943BOoiAA7",
        "outputId": "2ad18a62-fce1-43ad-b3c5-dddef23ae8e8",
        "colab": {
          "base_uri": "https://localhost:8080/",
          "height": 124
        }
      },
      "source": [
        "# Tuples(same as list but immutable). Tuple is like a constant you cannot change anything in it.\n",
        "\n",
        "tuple =(12,\"this is a string\",18.0,\"another string\")\n",
        "tuple1 = (17,100.8)\n",
        "print(tuple)\n",
        "print(tuple[0])\n",
        "print(tuple[1])\n",
        "print(tuple[2])\n",
        "print(tuple[3])\n",
        "tuple2=tuple+tuple1\n",
        "print(tuple2)\n",
        "\n"
      ],
      "execution_count": null,
      "outputs": [
        {
          "output_type": "stream",
          "text": [
            "(12, 'this is a string', 18.0, 'another string')\n",
            "12\n",
            "this is a string\n",
            "18.0\n",
            "another string\n",
            "(12, 'this is a string', 18.0, 'another string', 17, 100.8)\n"
          ],
          "name": "stdout"
        }
      ]
    },
    {
      "cell_type": "code",
      "metadata": {
        "id": "DXE7jvqmqlT3",
        "outputId": "6f863d86-0e70-4007-9380-aad9b9af28ca",
        "colab": {
          "base_uri": "https://localhost:8080/",
          "height": 124
        }
      },
      "source": [
        "for i in range(0,len(tuple2)):\n",
        "  print(tuple2[i])"
      ],
      "execution_count": null,
      "outputs": [
        {
          "output_type": "stream",
          "text": [
            "12\n",
            "this is a string\n",
            "18.0\n",
            "another string\n",
            "17\n",
            "100.8\n"
          ],
          "name": "stdout"
        }
      ]
    },
    {
      "cell_type": "code",
      "metadata": {
        "id": "_eU2rfkgEZ3L",
        "outputId": "659e54d3-1bf9-4c5c-d9dc-355e5d693dd3",
        "colab": {
          "base_uri": "https://localhost:8080/",
          "height": 35
        }
      },
      "source": [
        "tuple2"
      ],
      "execution_count": null,
      "outputs": [
        {
          "output_type": "execute_result",
          "data": {
            "text/plain": [
              "(12, 'this is a string', 18.0, 'another string', 17, 100.8)"
            ]
          },
          "metadata": {
            "tags": []
          },
          "execution_count": 165
        }
      ]
    },
    {
      "cell_type": "code",
      "metadata": {
        "id": "XxSPSyIuq66_",
        "outputId": "dfefc147-91b7-422e-b413-1c117c918a48",
        "colab": {
          "base_uri": "https://localhost:8080/",
          "height": 124
        }
      },
      "source": [
        "for item in tuple2:\n",
        "  print(item)"
      ],
      "execution_count": null,
      "outputs": [
        {
          "output_type": "stream",
          "text": [
            "12\n",
            "this is a string\n",
            "18.0\n",
            "another string\n",
            "17\n",
            "100.8\n"
          ],
          "name": "stdout"
        }
      ]
    },
    {
      "cell_type": "code",
      "metadata": {
        "id": "SeKfKZVCrG62",
        "outputId": "05fac86d-81ba-42c8-8291-28de3ddb1edd",
        "colab": {
          "base_uri": "https://localhost:8080/",
          "height": 52
        }
      },
      "source": [
        "# Python Dictionary(Key-Value Pairs)\n",
        "dict1={}\n",
        "# Adding to the dictionary\n",
        "dict1['apple']=\"Appple is a fruit\"\n",
        "dict1['straw']=\"straw is not a fruit\"\n",
        "dict1['kiwi']=\"kiwi is a fruit\"\n",
        "print(dict1)\n",
        "print(dict1['apple'])"
      ],
      "execution_count": null,
      "outputs": [
        {
          "output_type": "stream",
          "text": [
            "{'apple': 'Appple is a fruit', 'straw': 'straw is not a fruit', 'kiwi': 'kiwi is a fruit'}\n",
            "Appple is a fruit\n"
          ],
          "name": "stdout"
        }
      ]
    },
    {
      "cell_type": "code",
      "metadata": {
        "id": "xP2_hvIqN80L"
      },
      "source": [
        "dict={\"apple\":\"Apple is a fruit\",\"straw\":\"Straw is not \",\"kiwi\":\"kiwi is a fruit\"}"
      ],
      "execution_count": null,
      "outputs": []
    },
    {
      "cell_type": "code",
      "metadata": {
        "id": "jSG6LiDiOUZM",
        "outputId": "038675b5-f162-4ff9-8adb-0e406f6c5210",
        "colab": {
          "base_uri": "https://localhost:8080/",
          "height": 204
        }
      },
      "source": [
        "dict1['apple']=\"Appple is a fruit\"\n",
        "dict1['straw']=\"straw is not a fruit\"\n",
        "dict1['kiwi']=\"kiwi is a fruit\""
      ],
      "execution_count": null,
      "outputs": [
        {
          "output_type": "error",
          "ename": "NameError",
          "evalue": "ignored",
          "traceback": [
            "\u001b[0;31m---------------------------------------------------------------------------\u001b[0m",
            "\u001b[0;31mNameError\u001b[0m                                 Traceback (most recent call last)",
            "\u001b[0;32m<ipython-input-47-6e5c46a5545e>\u001b[0m in \u001b[0;36m<module>\u001b[0;34m()\u001b[0m\n\u001b[0;32m----> 1\u001b[0;31m \u001b[0mdict1\u001b[0m\u001b[0;34m[\u001b[0m\u001b[0;34m'apple'\u001b[0m\u001b[0;34m]\u001b[0m\u001b[0;34m=\u001b[0m\u001b[0;34m\"Appple is a fruit\"\u001b[0m\u001b[0;34m\u001b[0m\u001b[0;34m\u001b[0m\u001b[0m\n\u001b[0m\u001b[1;32m      2\u001b[0m \u001b[0mdict1\u001b[0m\u001b[0;34m[\u001b[0m\u001b[0;34m'straw'\u001b[0m\u001b[0;34m]\u001b[0m\u001b[0;34m=\u001b[0m\u001b[0;34m\"straw is not a fruit\"\u001b[0m\u001b[0;34m\u001b[0m\u001b[0;34m\u001b[0m\u001b[0m\n\u001b[1;32m      3\u001b[0m \u001b[0mdict1\u001b[0m\u001b[0;34m[\u001b[0m\u001b[0;34m'kiwi'\u001b[0m\u001b[0;34m]\u001b[0m\u001b[0;34m=\u001b[0m\u001b[0;34m\"kiwi is a fruit\"\u001b[0m\u001b[0;34m\u001b[0m\u001b[0;34m\u001b[0m\u001b[0m\n",
            "\u001b[0;31mNameError\u001b[0m: name 'dict1' is not defined"
          ]
        }
      ]
    },
    {
      "cell_type": "code",
      "metadata": {
        "id": "ULrxYBADtkBF",
        "outputId": "cbdc38a1-2ce2-4b13-8ffe-c807a097a603",
        "colab": {
          "base_uri": "https://localhost:8080/",
          "height": 35
        }
      },
      "source": [
        "print(dict1.get(\"apple\")) # "
      ],
      "execution_count": null,
      "outputs": [
        {
          "output_type": "stream",
          "text": [
            "Appple is a fruit\n"
          ],
          "name": "stdout"
        }
      ]
    },
    {
      "cell_type": "code",
      "metadata": {
        "id": "zDUtxYO-t3EE",
        "outputId": "d9f24400-6717-4d0d-c19f-1e9a4e846c6f",
        "colab": {
          "base_uri": "https://localhost:8080/",
          "height": 35
        }
      },
      "source": [
        "print(dict1.get(\"orange\")) # "
      ],
      "execution_count": null,
      "outputs": [
        {
          "output_type": "stream",
          "text": [
            "None\n"
          ],
          "name": "stdout"
        }
      ]
    },
    {
      "cell_type": "code",
      "metadata": {
        "id": "jaGIQxyjt6vl",
        "outputId": "7b8e5957-560b-4c3b-ef34-b8dc08c1edf8",
        "colab": {
          "base_uri": "https://localhost:8080/",
          "height": 35
        }
      },
      "source": [
        "print(dict1.get(\"tree\",\"key dsnt exist\")) # "
      ],
      "execution_count": null,
      "outputs": [
        {
          "output_type": "stream",
          "text": [
            "key dsnt exist\n"
          ],
          "name": "stdout"
        }
      ]
    },
    {
      "cell_type": "code",
      "metadata": {
        "id": "W0NQanT5uCvc"
      },
      "source": [
        "del dict1['apple']"
      ],
      "execution_count": null,
      "outputs": []
    },
    {
      "cell_type": "code",
      "metadata": {
        "id": "sb2frex3uTms",
        "outputId": "848fb0ed-5cf0-48d1-f664-1b1276bd3df6",
        "colab": {
          "base_uri": "https://localhost:8080/",
          "height": 35
        }
      },
      "source": [
        "print(len(dict1))"
      ],
      "execution_count": null,
      "outputs": [
        {
          "output_type": "stream",
          "text": [
            "2\n"
          ],
          "name": "stdout"
        }
      ]
    },
    {
      "cell_type": "code",
      "metadata": {
        "id": "HV4Q9O_gukAc"
      },
      "source": [
        "listofkeys=list(dict1.keys())"
      ],
      "execution_count": null,
      "outputs": []
    },
    {
      "cell_type": "code",
      "metadata": {
        "id": "h7jtZUX9GAwt",
        "outputId": "739d8351-5e95-4709-b19b-a6c3bc6a9849",
        "colab": {
          "base_uri": "https://localhost:8080/",
          "height": 35
        }
      },
      "source": [
        "listofkeys"
      ],
      "execution_count": null,
      "outputs": [
        {
          "output_type": "execute_result",
          "data": {
            "text/plain": [
              "['straw', 'kiwi']"
            ]
          },
          "metadata": {
            "tags": []
          },
          "execution_count": 179
        }
      ]
    },
    {
      "cell_type": "code",
      "metadata": {
        "id": "t0lDRBOiGEBs"
      },
      "source": [
        "listofkeys=list(listofkeys)"
      ],
      "execution_count": null,
      "outputs": []
    },
    {
      "cell_type": "code",
      "metadata": {
        "id": "SzzaEOpGuq_X"
      },
      "source": [
        "listofvalues=list(dict1.values())"
      ],
      "execution_count": null,
      "outputs": []
    },
    {
      "cell_type": "code",
      "metadata": {
        "id": "1l31W0ZFGiHo",
        "outputId": "437836c0-13d9-430d-fe79-08039c7f7762",
        "colab": {
          "base_uri": "https://localhost:8080/",
          "height": 35
        }
      },
      "source": [
        "listofvalues"
      ],
      "execution_count": null,
      "outputs": [
        {
          "output_type": "execute_result",
          "data": {
            "text/plain": [
              "['straw is not a fruit', 'kiwi is a fruit']"
            ]
          },
          "metadata": {
            "tags": []
          },
          "execution_count": 189
        }
      ]
    },
    {
      "cell_type": "code",
      "metadata": {
        "id": "qwL_kW5uuy2U",
        "outputId": "ea850c2c-5f2a-4cc1-b066-b24cd8112ed1",
        "colab": {
          "base_uri": "https://localhost:8080/",
          "height": 52
        }
      },
      "source": [
        " # iterating through the dictionary\n",
        " for key in dict1.keys():\n",
        "   print(dict1[key])"
      ],
      "execution_count": null,
      "outputs": [
        {
          "output_type": "stream",
          "text": [
            "straw is not a fruit\n",
            "kiwi is a fruit\n"
          ],
          "name": "stdout"
        }
      ]
    },
    {
      "cell_type": "code",
      "metadata": {
        "id": "HbjXIHM-O-ME"
      },
      "source": [
        "diction={\"books\":2, \"pen\":3,\"pencil\":6}"
      ],
      "execution_count": null,
      "outputs": []
    },
    {
      "cell_type": "code",
      "metadata": {
        "id": "BKrVQJsYPjln",
        "outputId": "e1a95a8f-5368-4f91-c4ec-372132bcc0c6",
        "colab": {
          "base_uri": "https://localhost:8080/",
          "height": 186
        }
      },
      "source": [
        "for value in diction.value():\n",
        "  print(diction[value])"
      ],
      "execution_count": null,
      "outputs": [
        {
          "output_type": "error",
          "ename": "AttributeError",
          "evalue": "ignored",
          "traceback": [
            "\u001b[0;31m---------------------------------------------------------------------------\u001b[0m",
            "\u001b[0;31mAttributeError\u001b[0m                            Traceback (most recent call last)",
            "\u001b[0;32m<ipython-input-77-c681a389c113>\u001b[0m in \u001b[0;36m<module>\u001b[0;34m()\u001b[0m\n\u001b[0;32m----> 1\u001b[0;31m \u001b[0;32mfor\u001b[0m \u001b[0mvalue\u001b[0m \u001b[0;32min\u001b[0m \u001b[0mdiction\u001b[0m\u001b[0;34m.\u001b[0m\u001b[0mvalue\u001b[0m\u001b[0;34m(\u001b[0m\u001b[0;34m)\u001b[0m\u001b[0;34m:\u001b[0m\u001b[0;34m\u001b[0m\u001b[0;34m\u001b[0m\u001b[0m\n\u001b[0m\u001b[1;32m      2\u001b[0m   \u001b[0mprint\u001b[0m\u001b[0;34m(\u001b[0m\u001b[0mdiction\u001b[0m\u001b[0;34m[\u001b[0m\u001b[0mvalue\u001b[0m\u001b[0;34m]\u001b[0m\u001b[0;34m)\u001b[0m\u001b[0;34m\u001b[0m\u001b[0;34m\u001b[0m\u001b[0m\n",
            "\u001b[0;31mAttributeError\u001b[0m: 'dict' object has no attribute 'value'"
          ]
        }
      ]
    },
    {
      "cell_type": "code",
      "metadata": {
        "id": "dCKw5R0GO8io"
      },
      "source": [
        "newdict={key:dict1[key] for key in dict1.keys()}"
      ],
      "execution_count": null,
      "outputs": []
    },
    {
      "cell_type": "code",
      "metadata": {
        "id": "IK6q0gvAPQe5",
        "outputId": "6d0b1a23-9fdf-4302-bf44-158a3e3c68c4",
        "colab": {
          "base_uri": "https://localhost:8080/",
          "height": 70
        }
      },
      "source": [
        "newdict"
      ],
      "execution_count": null,
      "outputs": [
        {
          "output_type": "execute_result",
          "data": {
            "text/plain": [
              "{'apple': 'Appple is a fruit',\n",
              " 'kiwi': 'kiwi is a fruit',\n",
              " 'straw': 'straw is not a fruit'}"
            ]
          },
          "metadata": {
            "tags": []
          },
          "execution_count": 52
        }
      ]
    },
    {
      "cell_type": "code",
      "metadata": {
        "id": "lzNFefUYvMQz",
        "outputId": "a83a9e75-e460-4f43-ceb2-01716ca0b8b6",
        "colab": {
          "base_uri": "https://localhost:8080/",
          "height": 52
        }
      },
      "source": [
        " for value in dict1.values():\n",
        "   print(value)"
      ],
      "execution_count": null,
      "outputs": [
        {
          "output_type": "stream",
          "text": [
            "straw is not a fruit\n",
            "kiwi is a fruit\n"
          ],
          "name": "stdout"
        }
      ]
    },
    {
      "cell_type": "markdown",
      "metadata": {
        "id": "mAfnqQk6v-In"
      },
      "source": [
        "Console and File I/O "
      ]
    },
    {
      "cell_type": "code",
      "metadata": {
        "id": "A1zQMWM5wKyo",
        "outputId": "4287ef19-fb39-4719-9059-51400bcdd394",
        "colab": {
          "base_uri": "https://localhost:8080/",
          "height": 70
        }
      },
      "source": [
        "inp=input(\"Enter a number :\")\n",
        "number1 =int(inp)\n",
        "inp=input(\"Enter a number :\")\n",
        "number2 =int(inp)\n",
        "print(number1+number2)"
      ],
      "execution_count": null,
      "outputs": [
        {
          "output_type": "stream",
          "text": [
            "Enter a number :4\n",
            "Enter a number :6\n",
            "10\n"
          ],
          "name": "stdout"
        }
      ]
    },
    {
      "cell_type": "markdown",
      "metadata": {
        "id": "2ttHzVSpw2JX"
      },
      "source": [
        "File I/O"
      ]
    },
    {
      "cell_type": "code",
      "metadata": {
        "id": "eqfLe3Jxw4_l",
        "outputId": "3b351954-dcaf-4c11-daac-52128dbca227",
        "colab": {
          "base_uri": "https://localhost:8080/",
          "height": 35
        }
      },
      "source": [
        "# writing to a file\n",
        "inp=input(\"enter a text:\")"
      ],
      "execution_count": null,
      "outputs": [
        {
          "output_type": "stream",
          "text": [
            "enter a text:the is thesample \n"
          ],
          "name": "stdout"
        }
      ]
    },
    {
      "cell_type": "code",
      "metadata": {
        "id": "hRR3N86dHkeE"
      },
      "source": [
        "with open(\"textfile.txt\",\"w\") as f:\n",
        "  f.write(inp)"
      ],
      "execution_count": null,
      "outputs": []
    },
    {
      "cell_type": "code",
      "metadata": {
        "id": "fX6geh0gHkXx"
      },
      "source": [
        ""
      ],
      "execution_count": null,
      "outputs": []
    },
    {
      "cell_type": "code",
      "metadata": {
        "id": "vcZ9WLOBxzfT"
      },
      "source": [
        "with open(\"textfile.txt\",\"a\") as f:\n",
        "  f.write(inp)"
      ],
      "execution_count": null,
      "outputs": []
    },
    {
      "cell_type": "code",
      "metadata": {
        "id": "-gxJY0GAx_xG",
        "outputId": "d2814fd6-d404-4476-c857-a5586faae294",
        "colab": {
          "base_uri": "https://localhost:8080/",
          "height": 35
        }
      },
      "source": [
        "with open(\"textfile.txt\",\"r\") as f:\n",
        "  print(f.read())"
      ],
      "execution_count": null,
      "outputs": [
        {
          "output_type": "stream",
          "text": [
            "i love pythoni love python\n"
          ],
          "name": "stdout"
        }
      ]
    },
    {
      "cell_type": "markdown",
      "metadata": {
        "id": "UHjO0khEyOdO"
      },
      "source": [
        "Functions(block of meaningful code)"
      ]
    },
    {
      "cell_type": "code",
      "metadata": {
        "id": "17YBw7vlyQdS"
      },
      "source": [
        "def functionName(arg1,arg2):\n",
        "  print(arg1,arg2)"
      ],
      "execution_count": null,
      "outputs": []
    },
    {
      "cell_type": "code",
      "metadata": {
        "id": "J1jURLpSJ4XH",
        "outputId": "f2381ce4-823b-4681-8a50-7b78c4486f84",
        "colab": {
          "base_uri": "https://localhost:8080/",
          "height": 35
        }
      },
      "source": [
        "functionName(40,36789)"
      ],
      "execution_count": null,
      "outputs": [
        {
          "output_type": "stream",
          "text": [
            "40 36789\n"
          ],
          "name": "stdout"
        }
      ]
    },
    {
      "cell_type": "code",
      "metadata": {
        "id": "0ujGXvKPy2sb",
        "outputId": "7f1c2543-d1ef-4569-dd92-e8f2abc313bf",
        "colab": {
          "base_uri": "https://localhost:8080/",
          "height": 35
        }
      },
      "source": [
        "functionName(\"this is an ex\",100000)"
      ],
      "execution_count": null,
      "outputs": [
        {
          "output_type": "stream",
          "text": [
            "this is an ex 100000\n"
          ],
          "name": "stdout"
        }
      ]
    },
    {
      "cell_type": "code",
      "metadata": {
        "id": "pQawXGa2zDAd"
      },
      "source": [
        "def sumof2(number1,numbr2):\n",
        "  print(number1*numbr2)"
      ],
      "execution_count": null,
      "outputs": []
    },
    {
      "cell_type": "code",
      "metadata": {
        "id": "lcEHgg_LzQKx",
        "outputId": "a6dd8d4d-3b91-4b86-ded4-863717dbd233",
        "colab": {
          "base_uri": "https://localhost:8080/",
          "height": 35
        }
      },
      "source": [
        "sumof2(87,56)"
      ],
      "execution_count": null,
      "outputs": [
        {
          "output_type": "stream",
          "text": [
            "4872\n"
          ],
          "name": "stdout"
        }
      ]
    },
    {
      "cell_type": "code",
      "metadata": {
        "id": "u26xb1OYzWo_"
      },
      "source": [
        "# form a function for calculating length of the list\n",
        "def length(l):\n",
        "  count=0\n",
        "  for item in l:\n",
        "    count +=1\n",
        "  return count"
      ],
      "execution_count": null,
      "outputs": []
    },
    {
      "cell_type": "markdown",
      "metadata": {
        "id": "Y_th_OFj0mrb"
      },
      "source": [
        ""
      ]
    },
    {
      "cell_type": "code",
      "metadata": {
        "id": "rfjbpdBdzWiq",
        "outputId": "98b148b3-1d81-4377-bbea-30d3c3c8761f",
        "colab": {
          "base_uri": "https://localhost:8080/",
          "height": 35
        }
      },
      "source": [
        "length([12,14,56])"
      ],
      "execution_count": null,
      "outputs": [
        {
          "output_type": "execute_result",
          "data": {
            "text/plain": [
              "3"
            ]
          },
          "metadata": {
            "tags": []
          },
          "execution_count": 206
        }
      ]
    },
    {
      "cell_type": "markdown",
      "metadata": {
        "id": "IxEpVQQl9Tbk"
      },
      "source": [
        "Claases and Objects "
      ]
    },
    {
      "cell_type": "code",
      "metadata": {
        "id": "az3Zvanl9Sa0"
      },
      "source": [
        "class Fish:\n",
        "  def swim(self):\n",
        "    print(\"fish is swimming\")\n",
        "  def eat(self):\n",
        "    print(\"fish is eating\")\n"
      ],
      "execution_count": null,
      "outputs": []
    },
    {
      "cell_type": "code",
      "metadata": {
        "id": "qtnOzwXC-wQ3",
        "outputId": "7fa299d4-e08d-45d1-85a0-36e121a4d179",
        "colab": {
          "base_uri": "https://localhost:8080/",
          "height": 52
        }
      },
      "source": [
        "fish=Fish()\n",
        "fish.swim()\n",
        "fish.eat()"
      ],
      "execution_count": null,
      "outputs": [
        {
          "output_type": "stream",
          "text": [
            "fish is swimming\n",
            "fish is eating\n"
          ],
          "name": "stdout"
        }
      ]
    },
    {
      "cell_type": "code",
      "metadata": {
        "id": "s0PU-V5U-7SM",
        "outputId": "6822cb5b-f26c-4de6-b088-d9953d3518a4",
        "colab": {
          "base_uri": "https://localhost:8080/",
          "height": 52
        }
      },
      "source": [
        "#override constructor\n",
        "class Fish:\n",
        "  def _init_(self,name):\n",
        "    self.name = name\n",
        "  def swim(self):\n",
        "    print(\"fish is swimming\")\n",
        "  def eat(self):\n",
        "    print(\"fish is eating\")\n",
        "\n",
        "f=Fish()\n",
        "f.swim()\n",
        "f.eat()"
      ],
      "execution_count": null,
      "outputs": [
        {
          "output_type": "stream",
          "text": [
            "fish is swimming\n",
            "fish is eating\n"
          ],
          "name": "stdout"
        }
      ]
    },
    {
      "cell_type": "markdown",
      "metadata": {
        "id": "UEp7KZE5CjUX"
      },
      "source": [
        "List Comprehension"
      ]
    },
    {
      "cell_type": "code",
      "metadata": {
        "id": "4XIi5TDsCiWg"
      },
      "source": [
        "numbers=[1100,700.400,200,900,\"thisis a string\"]\n",
        "new_no=[1]\n",
        "for number in numbers:\n",
        "  new_no.append(number)"
      ],
      "execution_count": null,
      "outputs": []
    },
    {
      "cell_type": "code",
      "metadata": {
        "id": "kazWGGonDiI2",
        "outputId": "81d6b6eb-0955-4394-e01d-2e41b5af5761",
        "colab": {
          "base_uri": "https://localhost:8080/",
          "height": 35
        }
      },
      "source": [
        "new_no"
      ],
      "execution_count": null,
      "outputs": [
        {
          "output_type": "execute_result",
          "data": {
            "text/plain": [
              "[1, 1100, 700.4, 200, 900, 'thisis a string']"
            ]
          },
          "metadata": {
            "tags": []
          },
          "execution_count": 9
        }
      ]
    },
    {
      "cell_type": "code",
      "metadata": {
        "id": "YXZOCbo5C95A"
      },
      "source": [
        "new_no=[number for number in numbers]\n"
      ],
      "execution_count": null,
      "outputs": []
    },
    {
      "cell_type": "code",
      "metadata": {
        "id": "OJvvmrtwD0mP",
        "outputId": "5ba48035-f66e-4a35-8ca6-ddf8121874a0",
        "colab": {
          "base_uri": "https://localhost:8080/",
          "height": 35
        }
      },
      "source": [
        "new_no"
      ],
      "execution_count": null,
      "outputs": [
        {
          "output_type": "execute_result",
          "data": {
            "text/plain": [
              "[1100, 700.4, 200, 900, 'thisis a string']"
            ]
          },
          "metadata": {
            "tags": []
          },
          "execution_count": 13
        }
      ]
    },
    {
      "cell_type": "code",
      "metadata": {
        "id": "y8bwf9qQDrSg"
      },
      "source": [
        "new_no=[number for number in numbers if number<=5] "
      ],
      "execution_count": null,
      "outputs": []
    },
    {
      "cell_type": "code",
      "metadata": {
        "id": "EjpZ-m7mEB2g",
        "outputId": "f3d844d3-8f90-4b6d-cb1e-3469c178adf4",
        "colab": {
          "base_uri": "https://localhost:8080/",
          "height": 35
        }
      },
      "source": [
        "new_no"
      ],
      "execution_count": null,
      "outputs": [
        {
          "output_type": "execute_result",
          "data": {
            "text/plain": [
              "[1, 2, 3, 4, 5]"
            ]
          },
          "metadata": {
            "tags": []
          },
          "execution_count": 45
        }
      ]
    },
    {
      "cell_type": "code",
      "metadata": {
        "id": "k0qBe5UGELbc"
      },
      "source": [
        "numbers2=[900,3,5,7,9]"
      ],
      "execution_count": null,
      "outputs": []
    },
    {
      "cell_type": "code",
      "metadata": {
        "id": "kyfBPdmKEU0_"
      },
      "source": [
        "new_no=[number for number in numbers if number not in numbers2] "
      ],
      "execution_count": null,
      "outputs": []
    },
    {
      "cell_type": "code",
      "metadata": {
        "id": "zsDO4VHlEc8k",
        "outputId": "d4d6b1c9-5365-4f10-d4ac-5ce5a5882d2e",
        "colab": {
          "base_uri": "https://localhost:8080/",
          "height": 35
        }
      },
      "source": [
        "new_no"
      ],
      "execution_count": null,
      "outputs": [
        {
          "output_type": "execute_result",
          "data": {
            "text/plain": [
              "[1100, 700.4, 200, 'thisis a string']"
            ]
          },
          "metadata": {
            "tags": []
          },
          "execution_count": 17
        }
      ]
    },
    {
      "cell_type": "code",
      "metadata": {
        "id": "Sk4wbZ_uEklP"
      },
      "source": [
        "new_no=[number*2 for number in numbers]"
      ],
      "execution_count": null,
      "outputs": []
    },
    {
      "cell_type": "code",
      "metadata": {
        "id": "kD8pTS7HEqdN",
        "outputId": "171b5f82-e711-4591-e26e-0adacd8df4e2",
        "colab": {
          "base_uri": "https://localhost:8080/",
          "height": 35
        }
      },
      "source": [
        "new_no"
      ],
      "execution_count": null,
      "outputs": [
        {
          "output_type": "execute_result",
          "data": {
            "text/plain": [
              "[2200, 1400.8, 400, 1800, 'thisis a stringthisis a string']"
            ]
          },
          "metadata": {
            "tags": []
          },
          "execution_count": 19
        }
      ]
    },
    {
      "cell_type": "code",
      "metadata": {
        "id": "rmvNveQcEsRF"
      },
      "source": [
        "numbers=[100,200,300,400,500]\n",
        "new_no=[number for number in numbers if number%2==1] "
      ],
      "execution_count": null,
      "outputs": []
    },
    {
      "cell_type": "code",
      "metadata": {
        "id": "i_skBAw9Ly1S",
        "outputId": "817ed8ef-30ec-4253-cb1a-6b3cdd86cf96",
        "colab": {
          "base_uri": "https://localhost:8080/",
          "height": 35
        }
      },
      "source": [
        "new_no"
      ],
      "execution_count": null,
      "outputs": [
        {
          "output_type": "execute_result",
          "data": {
            "text/plain": [
              "[]"
            ]
          },
          "metadata": {
            "tags": []
          },
          "execution_count": 43
        }
      ]
    },
    {
      "cell_type": "code",
      "metadata": {
        "id": "TCCSU3lPE21x",
        "outputId": "4aee1b04-f1fa-48f8-b0ee-dd64dcb71d89",
        "colab": {
          "base_uri": "https://localhost:8080/",
          "height": 35
        }
      },
      "source": [
        "new_no"
      ],
      "execution_count": null,
      "outputs": [
        {
          "output_type": "execute_result",
          "data": {
            "text/plain": [
              "[2200, 1400.8, 400, 1800, 'thisis a stringthisis a string']"
            ]
          },
          "metadata": {
            "tags": []
          },
          "execution_count": 21
        }
      ]
    },
    {
      "cell_type": "code",
      "metadata": {
        "id": "LcXxZ6jpE9o1"
      },
      "source": [
        "#generator comprehension\n",
        "squareGen=(number**2 for number in numbers)"
      ],
      "execution_count": null,
      "outputs": []
    },
    {
      "cell_type": "code",
      "metadata": {
        "id": "4VP1bbuYFTHN",
        "outputId": "ea9cc0e3-1ca8-4ce6-9b3c-fd3175f44ced",
        "colab": {
          "base_uri": "https://localhost:8080/",
          "height": 35
        }
      },
      "source": [
        "list(squareGen)"
      ],
      "execution_count": null,
      "outputs": [
        {
          "output_type": "execute_result",
          "data": {
            "text/plain": [
              "[1, 4, 9, 16, 25, 36, 49, 64, 81]"
            ]
          },
          "metadata": {
            "tags": []
          },
          "execution_count": 55
        }
      ]
    },
    {
      "cell_type": "code",
      "metadata": {
        "id": "Y-5AjrJLFXf2"
      },
      "source": [
        "mydict={\"apple\":0,\"banana\":10,\"orange\":5}\n",
        "newdict={key:mydict[key] for key in mydict.keys()}\n",
        "mydict={key:mydict[key]for key in mydict.keys() if mydict[key]>5}"
      ],
      "execution_count": null,
      "outputs": []
    },
    {
      "cell_type": "code",
      "metadata": {
        "id": "-QIjicx3T_zg",
        "outputId": "ee01374d-19b6-4838-f434-3dcc512ca1a9",
        "colab": {
          "base_uri": "https://localhost:8080/",
          "height": 35
        }
      },
      "source": [
        "mydict"
      ],
      "execution_count": null,
      "outputs": [
        {
          "output_type": "execute_result",
          "data": {
            "text/plain": [
              "{'banana': 10}"
            ]
          },
          "metadata": {
            "tags": []
          },
          "execution_count": 112
        }
      ]
    },
    {
      "cell_type": "code",
      "metadata": {
        "id": "-iLWjZvhRAcJ"
      },
      "source": [
        "dict={\"apple\":0,\"banana\":10,\"orange\":5}"
      ],
      "execution_count": null,
      "outputs": []
    },
    {
      "cell_type": "code",
      "metadata": {
        "id": "YiAAG36BRDmf",
        "outputId": "e0483f0c-4041-407f-c4a4-d7d4bc0e9a4c",
        "colab": {
          "base_uri": "https://localhost:8080/",
          "height": 35
        }
      },
      "source": [
        "print(dict.keys())"
      ],
      "execution_count": null,
      "outputs": [
        {
          "output_type": "stream",
          "text": [
            "dict_keys(['apple', 'banana', 'orange'])\n"
          ],
          "name": "stdout"
        }
      ]
    },
    {
      "cell_type": "code",
      "metadata": {
        "id": "VRdN195FRU9S",
        "outputId": "5d0679c1-6c6e-498f-8359-5d8693f6f2d7",
        "colab": {
          "base_uri": "https://localhost:8080/",
          "height": 70
        }
      },
      "source": [
        "for key in mydict.keys():\n",
        "  print(mydict[key])"
      ],
      "execution_count": null,
      "outputs": [
        {
          "output_type": "stream",
          "text": [
            "0\n",
            "10\n",
            "5\n"
          ],
          "name": "stdout"
        }
      ]
    },
    {
      "cell_type": "code",
      "metadata": {
        "id": "lbVjzj6gSXht",
        "outputId": "3bd01d54-59b6-4b04-f58a-dceb523a62ec",
        "colab": {
          "base_uri": "https://localhost:8080/",
          "height": 35
        }
      },
      "source": [
        "mydict.values()"
      ],
      "execution_count": null,
      "outputs": [
        {
          "output_type": "execute_result",
          "data": {
            "text/plain": [
              "dict_values([0, 10, 5])"
            ]
          },
          "metadata": {
            "tags": []
          },
          "execution_count": 99
        }
      ]
    },
    {
      "cell_type": "code",
      "metadata": {
        "id": "c2tTCVJ8Sy2Z",
        "outputId": "3a84bd70-5b87-4cc9-9229-ad070044f5c2",
        "colab": {
          "base_uri": "https://localhost:8080/",
          "height": 35
        }
      },
      "source": [
        "mydict.keys()"
      ],
      "execution_count": null,
      "outputs": [
        {
          "output_type": "execute_result",
          "data": {
            "text/plain": [
              "dict_keys(['apple', 'banana', 'orange'])"
            ]
          },
          "metadata": {
            "tags": []
          },
          "execution_count": 100
        }
      ]
    },
    {
      "cell_type": "code",
      "metadata": {
        "id": "dXgsFRhrS2BB",
        "outputId": "b1665d9e-f58b-44e8-e6ff-0140db7bf247",
        "colab": {
          "base_uri": "https://localhost:8080/",
          "height": 70
        }
      },
      "source": [
        "for i in mydict.keys():\n",
        "  print(mydict.keys())"
      ],
      "execution_count": null,
      "outputs": [
        {
          "output_type": "stream",
          "text": [
            "dict_keys(['apple', 'banana', 'orange'])\n",
            "dict_keys(['apple', 'banana', 'orange'])\n",
            "dict_keys(['apple', 'banana', 'orange'])\n"
          ],
          "name": "stdout"
        }
      ]
    },
    {
      "cell_type": "code",
      "metadata": {
        "id": "nKeSuZMBTeUD",
        "outputId": "cbf00048-bda4-452c-bdd8-dd9664e67a38",
        "colab": {
          "base_uri": "https://localhost:8080/",
          "height": 70
        }
      },
      "source": [
        "for key in mydict.keys():\n",
        "  print(mydict.keys())"
      ],
      "execution_count": null,
      "outputs": [
        {
          "output_type": "stream",
          "text": [
            "dict_keys(['apple', 'banana', 'orange'])\n",
            "dict_keys(['apple', 'banana', 'orange'])\n",
            "dict_keys(['apple', 'banana', 'orange'])\n"
          ],
          "name": "stdout"
        }
      ]
    },
    {
      "cell_type": "code",
      "metadata": {
        "id": "8MOqZjx8TiNe",
        "outputId": "d582334a-290e-4b9f-8140-bf1cdf9d716f",
        "colab": {
          "base_uri": "https://localhost:8080/",
          "height": 70
        }
      },
      "source": [
        "for value in mydict.values():\n",
        "  print(mydict.values())"
      ],
      "execution_count": null,
      "outputs": [
        {
          "output_type": "stream",
          "text": [
            "dict_values([0, 10, 5])\n",
            "dict_values([0, 10, 5])\n",
            "dict_values([0, 10, 5])\n"
          ],
          "name": "stdout"
        }
      ]
    },
    {
      "cell_type": "code",
      "metadata": {
        "id": "CXjXwSm_TwFw"
      },
      "source": [
        "newdict={key:mydict[key] for key in mydict.keys()}"
      ],
      "execution_count": null,
      "outputs": []
    },
    {
      "cell_type": "code",
      "metadata": {
        "id": "rFCguqV1Txyh",
        "outputId": "496df526-5b26-4a69-c8d9-e033addc50cb",
        "colab": {
          "base_uri": "https://localhost:8080/",
          "height": 35
        }
      },
      "source": [
        "newdict"
      ],
      "execution_count": null,
      "outputs": [
        {
          "output_type": "execute_result",
          "data": {
            "text/plain": [
              "{'apple': 0, 'banana': 10, 'orange': 5}"
            ]
          },
          "metadata": {
            "tags": []
          },
          "execution_count": 110
        }
      ]
    },
    {
      "cell_type": "code",
      "metadata": {
        "id": "0wqB_wAIR_fR",
        "outputId": "8f8a64f8-0894-4760-d733-b8140ab63f75",
        "colab": {
          "base_uri": "https://localhost:8080/",
          "height": 35
        }
      },
      "source": [
        "newdict"
      ],
      "execution_count": null,
      "outputs": [
        {
          "output_type": "execute_result",
          "data": {
            "text/plain": [
              "{'apple': 0, 'banana': 10, 'orange': 5}"
            ]
          },
          "metadata": {
            "tags": []
          },
          "execution_count": 89
        }
      ]
    },
    {
      "cell_type": "code",
      "metadata": {
        "id": "aGGlpM3jRHk3",
        "outputId": "79992358-5611-4e1b-f703-14f3e6646ecd",
        "colab": {
          "base_uri": "https://localhost:8080/",
          "height": 35
        }
      },
      "source": [
        "print(mydict.values())"
      ],
      "execution_count": null,
      "outputs": [
        {
          "output_type": "stream",
          "text": [
            "dict_values([0, 10, 5])\n"
          ],
          "name": "stdout"
        }
      ]
    },
    {
      "cell_type": "code",
      "metadata": {
        "id": "sifR4EwbQjvF",
        "outputId": "a2e0aa1d-259c-4180-86fe-fa2028948455",
        "colab": {
          "base_uri": "https://localhost:8080/",
          "height": 35
        }
      },
      "source": [
        "newdict"
      ],
      "execution_count": null,
      "outputs": [
        {
          "output_type": "execute_result",
          "data": {
            "text/plain": [
              "{'apple': 0, 'banana': 10, 'orange': 5}"
            ]
          },
          "metadata": {
            "tags": []
          },
          "execution_count": 61
        }
      ]
    },
    {
      "cell_type": "code",
      "metadata": {
        "id": "2Ya5BycaG6me"
      },
      "source": [
        "words=[\"fruits\",\"veg\",\"snacks\" ]\n",
        "sentences=\"\".join(words)\n",
        "sentences=\" \".join(words)"
      ],
      "execution_count": null,
      "outputs": []
    },
    {
      "cell_type": "code",
      "metadata": {
        "id": "3jTXSiX2Hebj",
        "outputId": "24e03979-702e-4160-d9e1-a175f96d9af7",
        "colab": {
          "base_uri": "https://localhost:8080/",
          "height": 36
        }
      },
      "source": [
        "sentences"
      ],
      "execution_count": null,
      "outputs": [
        {
          "output_type": "execute_result",
          "data": {
            "application/vnd.google.colaboratory.intrinsic+json": {
              "type": "string"
            },
            "text/plain": [
              "'fruits veg snacks'"
            ]
          },
          "metadata": {
            "tags": []
          },
          "execution_count": 118
        }
      ]
    },
    {
      "cell_type": "markdown",
      "metadata": {
        "id": "r67EputHG6Vv"
      },
      "source": [
        "Thank you! regarding pointer and thread. Python doesnot direclty support pointers but can implement using cobjects but threading can be implemented. Hope this doc helps you......:)"
      ]
    }
  ]
}